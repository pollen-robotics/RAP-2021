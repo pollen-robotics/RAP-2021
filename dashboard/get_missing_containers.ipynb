{
 "cells": [
  {
   "cell_type": "code",
   "execution_count": 13,
   "id": "004ad131",
   "metadata": {},
   "outputs": [],
   "source": [
    "log_path = '/home/pierre/.ros/log/2021-12-02-09-48-19-544804-reachy-xprize-1904'\n",
    "\n",
    "with open(log_path + '/launch.log') as log_file:\n",
    "    logs = log_file.readlines()"
   ]
  },
  {
   "cell_type": "code",
   "execution_count": 14,
   "id": "0faaa88a",
   "metadata": {},
   "outputs": [],
   "source": [
    "error_messages = ['Errno', 'ERROR']\n",
    "missing_container_msg = 'reachy_pyluos_hal.reachy.MissingContainerError'"
   ]
  },
  {
   "cell_type": "code",
   "execution_count": 15,
   "id": "cf8f69cb",
   "metadata": {},
   "outputs": [
    {
     "name": "stdout",
     "output_type": "stream",
     "text": [
      "1638434984.2069538 [joint_state_controller-4] reachy_pyluos_hal.reachy.MissingContainerError: Could not find given devices [<DynamixelMotor type=\"MX106\" id=20 limits=(-1.05, 3.14)>, <DynamixelMotor type=\"MX106\" id=21 limits=(-1.57, 1.75)>, <DynamixelMotor type=\"MX64\" id=22 limits=(-1.57, 1.57)>, <DynamixelMotor type=\"MX106\" id=23 limits=(0.0, 2.18)>, <DynamixelMotor type=\"MX28\" id=24 limits=(-1.75, 1.75)>, <DynamixelMotor type=\"MX28\" id=25 limits=(-0.79, 0.79)>, <DynamixelMotor type=\"AX18\" id=26 limits=(-0.61, 0.95)>, <DynamixelMotor type=\"AX18\" id=27 limits=(-1.7, 0.9)>, <ForceSensor id=20>, <DynamixelMotor type=\"MX106\" id=10 limits=(-3.14, 1.05)>, <DynamixelMotor type=\"MX106\" id=11 limits=(-1.75, 1.57)>, <DynamixelMotor type=\"MX64\" id=12 limits=(-1.57, 1.57)>, <DynamixelMotor type=\"MX106\" id=13 limits=(0.0, 2.18)>, <DynamixelMotor type=\"MX28\" id=14 limits=(-1.75, 1.75)>, <DynamixelMotor type=\"MX28\" id=15 limits=(-0.79, 0.79)>, <DynamixelMotor type=\"AX18\" id=16 limits=(-0.95, 0.61)>, <DynamixelMotor type=\"AX18\" id=17 limits=(-0.9, 1.7)>, <ForceSensor id=10>, <reachy_pyluos_hal.orbita.OrbitaActuator object at 0x7f17660bdf70>, <DynamixelMotor type=\"XL320\" id=30 limits=(-2.62, 2.62)>, <DynamixelMotor type=\"XL320\" id=31 limits=(-2.62, 2.62)>]!\n",
      "\n"
     ]
    }
   ],
   "source": [
    "for log in logs:\n",
    "    if missing_container_msg in log:\n",
    "        print(log)"
   ]
  },
  {
   "cell_type": "code",
   "execution_count": 16,
   "id": "b49c331b",
   "metadata": {},
   "outputs": [],
   "source": [
    "err = str([log for log in logs if missing_container_msg in log])"
   ]
  },
  {
   "cell_type": "code",
   "execution_count": 17,
   "id": "9aaa7851",
   "metadata": {},
   "outputs": [],
   "source": [
    "test = err.split('devices')[1].split('>, <')"
   ]
  },
  {
   "cell_type": "code",
   "execution_count": 26,
   "id": "b82f5215",
   "metadata": {},
   "outputs": [
    {
     "data": {
      "text/plain": [
       "[' [<DynamixelMotor type=\"MX106\" id=20 limits=(-1.05, 3.14)',\n",
       " 'DynamixelMotor type=\"MX106\" id=21 limits=(-1.57, 1.75)',\n",
       " 'DynamixelMotor type=\"MX64\" id=22 limits=(-1.57, 1.57)',\n",
       " 'DynamixelMotor type=\"MX106\" id=23 limits=(0.0, 2.18)',\n",
       " 'DynamixelMotor type=\"MX28\" id=24 limits=(-1.75, 1.75)',\n",
       " 'DynamixelMotor type=\"MX28\" id=25 limits=(-0.79, 0.79)',\n",
       " 'DynamixelMotor type=\"AX18\" id=26 limits=(-0.61, 0.95)',\n",
       " 'DynamixelMotor type=\"AX18\" id=27 limits=(-1.7, 0.9)',\n",
       " 'ForceSensor id=20',\n",
       " 'DynamixelMotor type=\"MX106\" id=10 limits=(-3.14, 1.05)',\n",
       " 'DynamixelMotor type=\"MX106\" id=11 limits=(-1.75, 1.57)',\n",
       " 'DynamixelMotor type=\"MX64\" id=12 limits=(-1.57, 1.57)',\n",
       " 'DynamixelMotor type=\"MX106\" id=13 limits=(0.0, 2.18)',\n",
       " 'DynamixelMotor type=\"MX28\" id=14 limits=(-1.75, 1.75)',\n",
       " 'DynamixelMotor type=\"MX28\" id=15 limits=(-0.79, 0.79)',\n",
       " 'DynamixelMotor type=\"AX18\" id=16 limits=(-0.95, 0.61)',\n",
       " 'DynamixelMotor type=\"AX18\" id=17 limits=(-0.9, 1.7)',\n",
       " 'ForceSensor id=10',\n",
       " 'reachy_pyluos_hal.orbita.OrbitaActuator object at 0x7f17660bdf70',\n",
       " 'DynamixelMotor type=\"XL320\" id=30 limits=(-2.62, 2.62)',\n",
       " 'DynamixelMotor type=\"XL320\" id=31 limits=(-2.62, 2.62)>]!\\\\n\\']']"
      ]
     },
     "execution_count": 26,
     "metadata": {},
     "output_type": "execute_result"
    }
   ],
   "source": [
    "test"
   ]
  },
  {
   "cell_type": "code",
   "execution_count": 33,
   "id": "b5a3d262",
   "metadata": {},
   "outputs": [],
   "source": [
    "def identify_missing_pieces(error_msg: str):\n",
    "    return [\n",
    "        {'DxlMotor': get_id_from_piece(piece)}\n",
    "        for piece in error_msg\n",
    "        if 'DynamixelMotor' in piece\n",
    "        ] + [\n",
    "            {'ForceSensor': get_id_from_piece(piece)}\n",
    "            for piece in error_msg if 'ForceSensor' in piece\n",
    "        ] + [\n",
    "            {'Orbita': 40} for piece in error_msg if 'orbita' in piece\n",
    "        ]"
   ]
  },
  {
   "cell_type": "code",
   "execution_count": 22,
   "id": "3ae4e2bc",
   "metadata": {},
   "outputs": [],
   "source": [
    "def get_id_from_piece(piece: str):\n",
    "    return int(piece.split('id=')[1][:2])"
   ]
  },
  {
   "cell_type": "code",
   "execution_count": 29,
   "id": "d510ebe8",
   "metadata": {},
   "outputs": [],
   "source": [
    "def is_missing_container(log_msg: str):\n",
    "    for message in log_msg:\n",
    "        if 'reachy_pyluos_hal.reachy.MissingContainerError' in message:\n",
    "            return True\n",
    "    return False"
   ]
  },
  {
   "cell_type": "code",
   "execution_count": 30,
   "id": "bb7a2600",
   "metadata": {},
   "outputs": [],
   "source": [
    "def get_missing_container_msg(log_msg: str):\n",
    "    err_msg = str([msg for msg in log_msg if 'reachy_pyluos_hal.reachy.MissingContainerError' in msg])\n",
    "    return err_msg.split('devices')[1].split('>, <')"
   ]
  },
  {
   "cell_type": "code",
   "execution_count": 34,
   "id": "3a01a914",
   "metadata": {},
   "outputs": [
    {
     "data": {
      "text/plain": [
       "[{'DxlMotor': 20},\n",
       " {'DxlMotor': 21},\n",
       " {'DxlMotor': 22},\n",
       " {'DxlMotor': 23},\n",
       " {'DxlMotor': 24},\n",
       " {'DxlMotor': 25},\n",
       " {'DxlMotor': 26},\n",
       " {'DxlMotor': 27},\n",
       " {'DxlMotor': 10},\n",
       " {'DxlMotor': 11},\n",
       " {'DxlMotor': 12},\n",
       " {'DxlMotor': 13},\n",
       " {'DxlMotor': 14},\n",
       " {'DxlMotor': 15},\n",
       " {'DxlMotor': 16},\n",
       " {'DxlMotor': 17},\n",
       " {'DxlMotor': 30},\n",
       " {'DxlMotor': 31},\n",
       " {'ForceSensor': 20},\n",
       " {'ForceSensor': 10},\n",
       " {'Orbita': 40}]"
      ]
     },
     "execution_count": 34,
     "metadata": {},
     "output_type": "execute_result"
    }
   ],
   "source": [
    "identify_missing_pieces(get_missing_container_msg(logs))"
   ]
  },
  {
   "cell_type": "code",
   "execution_count": 32,
   "id": "13522701",
   "metadata": {},
   "outputs": [
    {
     "data": {
      "text/plain": [
       "True"
      ]
     },
     "execution_count": 32,
     "metadata": {},
     "output_type": "execute_result"
    }
   ],
   "source": [
    "is_missing_container(logs)"
   ]
  },
  {
   "cell_type": "code",
   "execution_count": null,
   "id": "e5e8b013",
   "metadata": {},
   "outputs": [],
   "source": []
  },
  {
   "cell_type": "code",
   "execution_count": null,
   "id": "95f6bee1",
   "metadata": {},
   "outputs": [],
   "source": []
  }
 ],
 "metadata": {
  "kernelspec": {
   "display_name": "Python 3 (ipykernel)",
   "language": "python",
   "name": "python3"
  },
  "language_info": {
   "codemirror_mode": {
    "name": "ipython",
    "version": 3
   },
   "file_extension": ".py",
   "mimetype": "text/x-python",
   "name": "python",
   "nbconvert_exporter": "python",
   "pygments_lexer": "ipython3",
   "version": "3.8.10"
  }
 },
 "nbformat": 4,
 "nbformat_minor": 5
}
