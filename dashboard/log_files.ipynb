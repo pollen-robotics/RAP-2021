{
 "cells": [
  {
   "cell_type": "code",
   "execution_count": 19,
   "id": "61216411",
   "metadata": {},
   "outputs": [],
   "source": [
    "import os"
   ]
  },
  {
   "cell_type": "code",
   "execution_count": 13,
   "id": "adb2d4c0",
   "metadata": {},
   "outputs": [],
   "source": [
    "walk = [file[0] for file in os.walk('/home/pierre/.ros/log')]"
   ]
  },
  {
   "cell_type": "code",
   "execution_count": 14,
   "id": "fa8876d9",
   "metadata": {},
   "outputs": [
    {
     "data": {
      "text/plain": [
       "['/home/pierre/.ros/log/2021-11-30-14-40-59-661651-reachy-xprize-29832',\n",
       " '/home/pierre/.ros/log/2021-11-30-10-33-58-737989-reachy-xprize-21188',\n",
       " '/home/pierre/.ros/log/2021-11-30-10-42-51-138714-reachy-xprize-24653',\n",
       " '/home/pierre/.ros/log/2021-11-30-14-55-22-925747-reachy-xprize-31046',\n",
       " '/home/pierre/.ros/log/2021-11-30-10-35-19-708466-reachy-xprize-24385',\n",
       " '/home/pierre/.ros/log/2021-11-30-14-41-51-101839-reachy-xprize-30005',\n",
       " '/home/pierre/.ros/log/2021-11-30-14-42-31-368355-reachy-xprize-30233']"
      ]
     },
     "execution_count": 14,
     "metadata": {},
     "output_type": "execute_result"
    }
   ],
   "source": [
    "walk[1:]"
   ]
  },
  {
   "cell_type": "code",
   "execution_count": 59,
   "id": "1ad05842",
   "metadata": {},
   "outputs": [],
   "source": [
    "with open(walk[-1] + '/launch.log') as log_file:\n",
    "    lines = log_file.readlines()"
   ]
  },
  {
   "cell_type": "code",
   "execution_count": 18,
   "id": "854b6654",
   "metadata": {},
   "outputs": [],
   "source": [
    "error_messages = ['Errno', 'ERROR']"
   ]
  },
  {
   "cell_type": "code",
   "execution_count": 19,
   "id": "5306df7d",
   "metadata": {},
   "outputs": [
    {
     "name": "stdout",
     "output_type": "stream",
     "text": [
      "1638279751.8536079 [camera_zoom_service-7] FileNotFoundError: [Errno 2] No such file or directory: '/dev/ttyACM0'\n",
      "\n",
      "1638279751.8550231 [camera_zoom_service-7] serial.serialutil.SerialException: [Errno 2] could not open port /dev/ttyACM0: [Errno 2] No such file or directory: '/dev/ttyACM0'\n",
      "\n",
      "1638279751.9388404 [ERROR] [camera_zoom_service-7]: process has died [pid 30247, exit code 1, cmd '/home/pierre/reachy_ws/install/reachy_controllers/lib/reachy_controllers/camera_zoom_service --ros-args'].\n",
      "\n",
      "1638279769.9756637 [ERROR] [joint_state_controller-4]: process has died [pid 30241, exit code 1, cmd '/home/pierre/reachy_ws/install/reachy_controllers/lib/reachy_controllers/joint_state_controller --ros-args'].\n",
      "\n",
      "1638279809.0592141 [ERROR] [camera_server-9]: process has died [pid 30261, exit code -2, cmd '/home/pierre/reachy_ws/install/reachy_sdk_server/lib/reachy_sdk_server/camera_server --ros-args'].\n",
      "\n",
      "1638279809.0595241 [ERROR] [arm_kinematics_service-3]: process has died [pid 30239, exit code -2, cmd '/home/pierre/reachy_ws/install/reachy_kinematics/lib/reachy_kinematics/arm_kinematics_service --ros-args'].\n",
      "\n",
      "1638279809.0599926 [ERROR] [reachy_sdk_server-8]: process has died [pid 30249, exit code -2, cmd '/home/pierre/reachy_ws/install/reachy_sdk_server/lib/reachy_sdk_server/reachy_sdk_server --ros-args'].\n",
      "\n",
      "1638279809.0601940 [ERROR] [orbita_kinematics_service-2]: process has died [pid 30237, exit code -2, cmd '/home/pierre/reachy_ws/install/reachy_kinematics/lib/reachy_kinematics/orbita_kinematics_service --ros-args'].\n",
      "\n",
      "1638279809.0613089 [ERROR] [camera_focus-6]: process has died [pid 30245, exit code -2, cmd '/home/pierre/reachy_ws/install/reachy_focus/lib/reachy_focus/camera_focus --ros-args'].\n",
      "\n",
      "1638279809.0803244 [ERROR] [camera_publisher-5]: process has died [pid 30243, exit code -2, cmd '/home/pierre/reachy_ws/install/reachy_controllers/lib/reachy_controllers/camera_publisher --ros-args'].\n",
      "\n"
     ]
    }
   ],
   "source": [
    "for line in lines:\n",
    "    for error_msg in error_messages:\n",
    "        if error_msg in line:\n",
    "            print(line)"
   ]
  },
  {
   "cell_type": "code",
   "execution_count": 21,
   "id": "10752ecc",
   "metadata": {},
   "outputs": [
    {
     "name": "stdout",
     "output_type": "stream",
     "text": [
      "1638279769.9094121 [joint_state_controller-4] reachy_pyluos_hal.reachy.MissingContainerError: Could not find given devices [<DynamixelMotor type=\"MX106\" id=20 limits=(-1.05, 3.14)>, <DynamixelMotor type=\"MX106\" id=21 limits=(-1.57, 1.75)>, <DynamixelMotor type=\"MX64\" id=22 limits=(-1.57, 1.57)>, <DynamixelMotor type=\"MX106\" id=23 limits=(0.0, 2.18)>, <DynamixelMotor type=\"MX28\" id=24 limits=(-1.75, 1.75)>, <DynamixelMotor type=\"MX28\" id=25 limits=(-0.79, 0.79)>, <DynamixelMotor type=\"AX18\" id=26 limits=(-0.61, 0.95)>, <DynamixelMotor type=\"AX18\" id=27 limits=(-1.7, 0.9)>, <ForceSensor id=20>]!\n",
      "\n"
     ]
    }
   ],
   "source": [
    "for line in lines:\n",
    "    if 'reachy_pyluos_hal.reachy.MissingContainerError' in line:\n",
    "        print(line)"
   ]
  },
  {
   "cell_type": "code",
   "execution_count": 27,
   "id": "1be7e4a1",
   "metadata": {},
   "outputs": [],
   "source": [
    "err = str([l for l in lines if 'reachy_pyluos_hal.reachy.MissingContainerError' in l])"
   ]
  },
  {
   "cell_type": "code",
   "execution_count": 37,
   "id": "707225fc",
   "metadata": {},
   "outputs": [],
   "source": [
    "test = err.split('devices')[1].split('>, <')"
   ]
  },
  {
   "cell_type": "code",
   "execution_count": 63,
   "id": "bf45ace1",
   "metadata": {},
   "outputs": [
    {
     "name": "stdout",
     "output_type": "stream",
     "text": [
      "[' [<DynamixelMotor type=\"MX106\" id=20 limits=(-1.05, 3.14)', 'DynamixelMotor type=\"MX106\" id=21 limits=(-1.57, 1.75)', 'DynamixelMotor type=\"MX64\" id=22 limits=(-1.57, 1.57)', 'DynamixelMotor type=\"MX106\" id=23 limits=(0.0, 2.18)', 'DynamixelMotor type=\"MX28\" id=24 limits=(-1.75, 1.75)', 'DynamixelMotor type=\"MX28\" id=25 limits=(-0.79, 0.79)', 'DynamixelMotor type=\"AX18\" id=26 limits=(-0.61, 0.95)', 'DynamixelMotor type=\"AX18\" id=27 limits=(-1.7, 0.9)', \"ForceSensor id=20>]!\\\\n']\"]\n"
     ]
    }
   ],
   "source": [
    "print(test)"
   ]
  },
  {
   "cell_type": "code",
   "execution_count": 93,
   "id": "f092095f",
   "metadata": {},
   "outputs": [],
   "source": [
    "def identify_missing_pieces(error_msg: str):\n",
    "    return [{'DxlMotor': get_id_from_piece(piece)} for piece in error_msg if 'DynamixelMotor' in piece] + [{'ForceSensor': get_id_from_piece(piece)} for piece in error_msg if 'ForceSensor' in piece]"
   ]
  },
  {
   "cell_type": "code",
   "execution_count": 51,
   "id": "ce79ecb6",
   "metadata": {},
   "outputs": [],
   "source": [
    "def get_id_from_piece(piece: str):\n",
    "    return int(piece.split('id=')[1][:2])"
   ]
  },
  {
   "cell_type": "code",
   "execution_count": 64,
   "id": "d75ba2d3",
   "metadata": {},
   "outputs": [
    {
     "name": "stdout",
     "output_type": "stream",
     "text": [
      "{'DxlMotor': 20}\n",
      "{'DxlMotor': 21}\n",
      "{'DxlMotor': 22}\n",
      "{'DxlMotor': 23}\n",
      "{'DxlMotor': 24}\n",
      "{'DxlMotor': 25}\n",
      "{'DxlMotor': 26}\n",
      "{'DxlMotor': 27}\n",
      "{'ForceSensor': 20}\n"
     ]
    }
   ],
   "source": [
    "for piece in test:\n",
    "    print(identify_missing_piece(piece))"
   ]
  },
  {
   "cell_type": "code",
   "execution_count": 56,
   "id": "eb6e4c50",
   "metadata": {},
   "outputs": [],
   "source": [
    "def is_missing_container(log_msg: str):\n",
    "    for message in log_msg:\n",
    "        if 'reachy_pyluos_hal.reachy.MissingContainerError' in message:\n",
    "            return True\n",
    "    return False"
   ]
  },
  {
   "cell_type": "code",
   "execution_count": 67,
   "id": "4bc8c034",
   "metadata": {},
   "outputs": [],
   "source": [
    "def get_missing_container_msg(log_msg: str):\n",
    "    err_msg = str([msg for msg in log_msg if 'reachy_pyluos_hal.reachy.MissingContainerError' in msg])\n",
    "    return err_msg.split('devices')[1].split('>, <')"
   ]
  },
  {
   "cell_type": "code",
   "execution_count": 92,
   "id": "09c51099",
   "metadata": {},
   "outputs": [
    {
     "data": {
      "text/plain": [
       "[{'DxlMotor': 20},\n",
       " {'DxlMotor': 21},\n",
       " {'DxlMotor': 22},\n",
       " {'DxlMotor': 23},\n",
       " {'DxlMotor': 24},\n",
       " {'DxlMotor': 25},\n",
       " {'DxlMotor': 26},\n",
       " {'DxlMotor': 27},\n",
       " {'ForceSensor': 20}]"
      ]
     },
     "execution_count": 92,
     "metadata": {},
     "output_type": "execute_result"
    }
   ],
   "source": [
    "identify_missing_pieces(get_missing_container_msg(lines))"
   ]
  },
  {
   "cell_type": "code",
   "execution_count": 71,
   "id": "d5d78811",
   "metadata": {},
   "outputs": [
    {
     "data": {
      "text/plain": [
       "True"
      ]
     },
     "execution_count": 71,
     "metadata": {},
     "output_type": "execute_result"
    }
   ],
   "source": [
    "get_missing_container_msg(lines) == test"
   ]
  },
  {
   "cell_type": "code",
   "execution_count": 77,
   "id": "1c3d9f64",
   "metadata": {},
   "outputs": [],
   "source": [
    "error_msg = get_missing_container_msg(lines)"
   ]
  },
  {
   "cell_type": "code",
   "execution_count": 79,
   "id": "094d22ee",
   "metadata": {},
   "outputs": [
    {
     "name": "stdout",
     "output_type": "stream",
     "text": [
      " [<DynamixelMotor type=\"MX106\" id=20 limits=(-1.05, 3.14)\n",
      "DynamixelMotor type=\"MX106\" id=21 limits=(-1.57, 1.75)\n",
      "DynamixelMotor type=\"MX64\" id=22 limits=(-1.57, 1.57)\n",
      "DynamixelMotor type=\"MX106\" id=23 limits=(0.0, 2.18)\n",
      "DynamixelMotor type=\"MX28\" id=24 limits=(-1.75, 1.75)\n",
      "DynamixelMotor type=\"MX28\" id=25 limits=(-0.79, 0.79)\n",
      "DynamixelMotor type=\"AX18\" id=26 limits=(-0.61, 0.95)\n",
      "DynamixelMotor type=\"AX18\" id=27 limits=(-1.7, 0.9)\n"
     ]
    }
   ],
   "source": [
    "for piece in error_msg:\n",
    "    if 'DynamixelMotor' in piece:\n",
    "        print(piece)"
   ]
  },
  {
   "cell_type": "code",
   "execution_count": 80,
   "id": "b8101421",
   "metadata": {},
   "outputs": [
    {
     "data": {
      "text/plain": [
       "{'DxlMotor': 27}"
      ]
     },
     "execution_count": 80,
     "metadata": {},
     "output_type": "execute_result"
    }
   ],
   "source": [
    "{'DxlMotor': get_id_from_piece(piece) for piece in error_msg if 'DynamixelMotor' in piece}"
   ]
  },
  {
   "cell_type": "code",
   "execution_count": 84,
   "id": "cdff3df3",
   "metadata": {},
   "outputs": [],
   "source": [
    "identify_missing_pieces(test)"
   ]
  },
  {
   "cell_type": "code",
   "execution_count": null,
   "id": "702e6c6d",
   "metadata": {},
   "outputs": [],
   "source": []
  },
  {
   "cell_type": "code",
   "execution_count": null,
   "id": "cce187bb",
   "metadata": {},
   "outputs": [],
   "source": []
  },
  {
   "cell_type": "code",
   "execution_count": 20,
   "id": "c4bbaade",
   "metadata": {},
   "outputs": [],
   "source": [
    "from os import path\n",
    "import os"
   ]
  },
  {
   "cell_type": "code",
   "execution_count": 21,
   "id": "e888386d",
   "metadata": {},
   "outputs": [
    {
     "data": {
      "text/plain": [
       "'/home/pierre/dev/RAP-2021/dashboard'"
      ]
     },
     "execution_count": 21,
     "metadata": {},
     "output_type": "execute_result"
    }
   ],
   "source": [
    "path.abspath(os.getcwd())"
   ]
  },
  {
   "cell_type": "code",
   "execution_count": 4,
   "id": "400b53ba",
   "metadata": {},
   "outputs": [
    {
     "data": {
      "text/plain": [
       "'/home/pierre/dev/RAP-2021/dashboard'"
      ]
     },
     "execution_count": 4,
     "metadata": {},
     "output_type": "execute_result"
    }
   ],
   "source": [
    "os.getcwd()"
   ]
  },
  {
   "cell_type": "code",
   "execution_count": 5,
   "id": "3c87c0d5",
   "metadata": {},
   "outputs": [
    {
     "data": {
      "text/plain": [
       "'/home/pierre/dev/RAP-2021/dashboard/~/dev'"
      ]
     },
     "execution_count": 5,
     "metadata": {},
     "output_type": "execute_result"
    }
   ],
   "source": [
    "path.abspath('~/dev')"
   ]
  },
  {
   "cell_type": "code",
   "execution_count": 22,
   "id": "34c0847a",
   "metadata": {},
   "outputs": [],
   "source": [
    "home_path = path.expanduser('~')"
   ]
  },
  {
   "cell_type": "code",
   "execution_count": 23,
   "id": "65d38ce2",
   "metadata": {},
   "outputs": [],
   "source": [
    "ros_log_path = home_path + '/.ros/log'"
   ]
  },
  {
   "cell_type": "code",
   "execution_count": 24,
   "id": "343d08a1",
   "metadata": {},
   "outputs": [
    {
     "data": {
      "text/plain": [
       "'/home/pierre/.ros/log'"
      ]
     },
     "execution_count": 24,
     "metadata": {},
     "output_type": "execute_result"
    }
   ],
   "source": [
    "ros_log_path"
   ]
  },
  {
   "cell_type": "code",
   "execution_count": 25,
   "id": "f422a8ec",
   "metadata": {},
   "outputs": [],
   "source": [
    "walk = [file[0] for file in os.walk(ros_log_path)]"
   ]
  },
  {
   "cell_type": "code",
   "execution_count": 27,
   "id": "a92ee2dd",
   "metadata": {},
   "outputs": [],
   "source": [
    "# walk"
   ]
  },
  {
   "cell_type": "code",
   "execution_count": 29,
   "id": "49fa58c3",
   "metadata": {},
   "outputs": [
    {
     "data": {
      "text/plain": [
       "['/home/pierre/.ros/log/2021-11-30-14-40-59-661651-reachy-xprize-29832',\n",
       " '/home/pierre/.ros/log/2021-12-01-08-11-39-812015-reachy-xprize-1803',\n",
       " '/home/pierre/.ros/log/2021-11-30-17-33-19-329442-reachy-xprize-33040',\n",
       " '/home/pierre/.ros/log/2021-11-30-17-39-05-388060-reachy-xprize-34963',\n",
       " '/home/pierre/.ros/log/2021-12-02-09-48-19-544804-reachy-xprize-1904',\n",
       " '/home/pierre/.ros/log/2021-12-01-07-55-13-096647-reachy-xprize-1840',\n",
       " '/home/pierre/.ros/log/2021-12-01-08-13-10-818967-reachy-xprize-2506',\n",
       " '/home/pierre/.ros/log/2021-12-01-08-31-53-924545-reachy-xprize-5693',\n",
       " '/home/pierre/.ros/log/2021-11-30-17-34-47-090383-reachy-xprize-33474',\n",
       " '/home/pierre/.ros/log/2021-11-30-18-05-12-080974-reachy-xprize-35702',\n",
       " '/home/pierre/.ros/log/2021-11-30-17-37-53-795651-reachy-xprize-34406',\n",
       " '/home/pierre/.ros/log/2021-11-30-10-33-58-737989-reachy-xprize-21188',\n",
       " '/home/pierre/.ros/log/2021-11-30-18-01-15-504711-reachy-xprize-35525',\n",
       " '/home/pierre/.ros/log/2021-12-01-08-21-11-141206-reachy-xprize-3077',\n",
       " '/home/pierre/.ros/log/2021-11-30-10-42-51-138714-reachy-xprize-24653',\n",
       " '/home/pierre/.ros/log/2021-12-01-08-21-43-058214-reachy-xprize-3134',\n",
       " '/home/pierre/.ros/log/2021-11-30-14-55-22-925747-reachy-xprize-31046',\n",
       " '/home/pierre/.ros/log/2021-11-30-17-32-29-502574-reachy-xprize-32820',\n",
       " '/home/pierre/.ros/log/2021-11-30-17-34-17-777674-reachy-xprize-33255',\n",
       " '/home/pierre/.ros/log/2021-11-30-17-45-29-631768-reachy-xprize-35408',\n",
       " '/home/pierre/.ros/log/2021-12-01-08-13-36-257604-reachy-xprize-2569',\n",
       " '/home/pierre/.ros/log/2021-12-01-08-35-00-669797-reachy-xprize-5856',\n",
       " '/home/pierre/.ros/log/2021-12-01-08-20-25-238945-reachy-xprize-3034',\n",
       " '/home/pierre/.ros/log/2021-11-30-10-35-19-708466-reachy-xprize-24385',\n",
       " '/home/pierre/.ros/log/2021-11-30-14-41-51-101839-reachy-xprize-30005',\n",
       " '/home/pierre/.ros/log/2021-11-30-14-42-31-368355-reachy-xprize-30233',\n",
       " '/home/pierre/.ros/log/2021-11-30-17-44-35-342979-reachy-xprize-35281']"
      ]
     },
     "execution_count": 29,
     "metadata": {},
     "output_type": "execute_result"
    }
   ],
   "source": [
    "log_folders = walk[1:]\n",
    "log_folders"
   ]
  },
  {
   "cell_type": "code",
   "execution_count": 37,
   "id": "494a3b90",
   "metadata": {},
   "outputs": [],
   "source": [
    "dates = [p.split('log/')[1].split('-reachy')[0] for p in log_folders]"
   ]
  },
  {
   "cell_type": "code",
   "execution_count": 43,
   "id": "ca797c86",
   "metadata": {},
   "outputs": [],
   "source": [
    "dtimes = [datetime(int(d.split('-')[0]), int(d.split('-')[1]), int(d.split('-')[2]), int(d.split('-')[3]), int(d.split('-')[4]), int(d.split('-')[5])) for d in dates]"
   ]
  },
  {
   "cell_type": "code",
   "execution_count": 44,
   "id": "6d0e94bd",
   "metadata": {},
   "outputs": [
    {
     "data": {
      "text/plain": [
       "[datetime.datetime(2021, 11, 30, 14, 40, 59),\n",
       " datetime.datetime(2021, 12, 1, 8, 11, 39),\n",
       " datetime.datetime(2021, 11, 30, 17, 33, 19),\n",
       " datetime.datetime(2021, 11, 30, 17, 39, 5),\n",
       " datetime.datetime(2021, 12, 2, 9, 48, 19),\n",
       " datetime.datetime(2021, 12, 1, 7, 55, 13),\n",
       " datetime.datetime(2021, 12, 1, 8, 13, 10),\n",
       " datetime.datetime(2021, 12, 1, 8, 31, 53),\n",
       " datetime.datetime(2021, 11, 30, 17, 34, 47),\n",
       " datetime.datetime(2021, 11, 30, 18, 5, 12),\n",
       " datetime.datetime(2021, 11, 30, 17, 37, 53),\n",
       " datetime.datetime(2021, 11, 30, 10, 33, 58),\n",
       " datetime.datetime(2021, 11, 30, 18, 1, 15),\n",
       " datetime.datetime(2021, 12, 1, 8, 21, 11),\n",
       " datetime.datetime(2021, 11, 30, 10, 42, 51),\n",
       " datetime.datetime(2021, 12, 1, 8, 21, 43),\n",
       " datetime.datetime(2021, 11, 30, 14, 55, 22),\n",
       " datetime.datetime(2021, 11, 30, 17, 32, 29),\n",
       " datetime.datetime(2021, 11, 30, 17, 34, 17),\n",
       " datetime.datetime(2021, 11, 30, 17, 45, 29),\n",
       " datetime.datetime(2021, 12, 1, 8, 13, 36),\n",
       " datetime.datetime(2021, 12, 1, 8, 35),\n",
       " datetime.datetime(2021, 12, 1, 8, 20, 25),\n",
       " datetime.datetime(2021, 11, 30, 10, 35, 19),\n",
       " datetime.datetime(2021, 11, 30, 14, 41, 51),\n",
       " datetime.datetime(2021, 11, 30, 14, 42, 31),\n",
       " datetime.datetime(2021, 11, 30, 17, 44, 35)]"
      ]
     },
     "execution_count": 44,
     "metadata": {},
     "output_type": "execute_result"
    }
   ],
   "source": [
    "dtimes "
   ]
  },
  {
   "cell_type": "code",
   "execution_count": 16,
   "id": "99b9f7d0",
   "metadata": {},
   "outputs": [],
   "source": [
    "from datetime import datetime\n",
    "from datetime import date"
   ]
  },
  {
   "cell_type": "code",
   "execution_count": 45,
   "id": "3084010e",
   "metadata": {},
   "outputs": [],
   "source": [
    "dtimes.sort()"
   ]
  },
  {
   "cell_type": "code",
   "execution_count": 46,
   "id": "58999dfd",
   "metadata": {},
   "outputs": [
    {
     "data": {
      "text/plain": [
       "[datetime.datetime(2021, 11, 30, 10, 33, 58),\n",
       " datetime.datetime(2021, 11, 30, 10, 35, 19),\n",
       " datetime.datetime(2021, 11, 30, 10, 42, 51),\n",
       " datetime.datetime(2021, 11, 30, 14, 40, 59),\n",
       " datetime.datetime(2021, 11, 30, 14, 41, 51),\n",
       " datetime.datetime(2021, 11, 30, 14, 42, 31),\n",
       " datetime.datetime(2021, 11, 30, 14, 55, 22),\n",
       " datetime.datetime(2021, 11, 30, 17, 32, 29),\n",
       " datetime.datetime(2021, 11, 30, 17, 33, 19),\n",
       " datetime.datetime(2021, 11, 30, 17, 34, 17),\n",
       " datetime.datetime(2021, 11, 30, 17, 34, 47),\n",
       " datetime.datetime(2021, 11, 30, 17, 37, 53),\n",
       " datetime.datetime(2021, 11, 30, 17, 39, 5),\n",
       " datetime.datetime(2021, 11, 30, 17, 44, 35),\n",
       " datetime.datetime(2021, 11, 30, 17, 45, 29),\n",
       " datetime.datetime(2021, 11, 30, 18, 1, 15),\n",
       " datetime.datetime(2021, 11, 30, 18, 5, 12),\n",
       " datetime.datetime(2021, 12, 1, 7, 55, 13),\n",
       " datetime.datetime(2021, 12, 1, 8, 11, 39),\n",
       " datetime.datetime(2021, 12, 1, 8, 13, 10),\n",
       " datetime.datetime(2021, 12, 1, 8, 13, 36),\n",
       " datetime.datetime(2021, 12, 1, 8, 20, 25),\n",
       " datetime.datetime(2021, 12, 1, 8, 21, 11),\n",
       " datetime.datetime(2021, 12, 1, 8, 21, 43),\n",
       " datetime.datetime(2021, 12, 1, 8, 31, 53),\n",
       " datetime.datetime(2021, 12, 1, 8, 35),\n",
       " datetime.datetime(2021, 12, 2, 9, 48, 19)]"
      ]
     },
     "execution_count": 46,
     "metadata": {},
     "output_type": "execute_result"
    }
   ],
   "source": [
    "dtimes"
   ]
  },
  {
   "cell_type": "code",
   "execution_count": null,
   "id": "707a1d70",
   "metadata": {},
   "outputs": [],
   "source": []
  }
 ],
 "metadata": {
  "kernelspec": {
   "display_name": "Python 3 (ipykernel)",
   "language": "python",
   "name": "python3"
  },
  "language_info": {
   "codemirror_mode": {
    "name": "ipython",
    "version": 3
   },
   "file_extension": ".py",
   "mimetype": "text/x-python",
   "name": "python",
   "nbconvert_exporter": "python",
   "pygments_lexer": "ipython3",
   "version": "3.8.10"
  }
 },
 "nbformat": 4,
 "nbformat_minor": 5
}
