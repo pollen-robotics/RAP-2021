{
 "cells": [
  {
   "cell_type": "code",
   "execution_count": 1,
   "id": "1b8bcbe9",
   "metadata": {},
   "outputs": [],
   "source": [
    "from tools.dashboard_tools import ReachyDashboard"
   ]
  },
  {
   "cell_type": "code",
   "execution_count": 2,
   "id": "ed86ddac",
   "metadata": {},
   "outputs": [],
   "source": [
    "rd = ReachyDashboard()"
   ]
  },
  {
   "cell_type": "code",
   "execution_count": 7,
   "id": "4989474c",
   "metadata": {},
   "outputs": [],
   "source": [
    "rd.change_compliancy('Left arm', compliance=False)"
   ]
  },
  {
   "cell_type": "code",
   "execution_count": 8,
   "id": "40ddb824",
   "metadata": {},
   "outputs": [],
   "source": [
    "await rd.turn_off_smoothly('Left arm')"
   ]
  },
  {
   "cell_type": "code",
   "execution_count": null,
   "id": "3d7a5e5c",
   "metadata": {},
   "outputs": [],
   "source": []
  }
 ],
 "metadata": {
  "kernelspec": {
   "display_name": "Python 3",
   "language": "python",
   "name": "python3"
  },
  "language_info": {
   "codemirror_mode": {
    "name": "ipython",
    "version": 3
   },
   "file_extension": ".py",
   "mimetype": "text/x-python",
   "name": "python",
   "nbconvert_exporter": "python",
   "pygments_lexer": "ipython3",
   "version": "3.8.10"
  }
 },
 "nbformat": 4,
 "nbformat_minor": 5
}
