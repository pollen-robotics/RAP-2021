{
 "cells": [
  {
   "cell_type": "code",
   "execution_count": 1,
   "id": "67e9c847",
   "metadata": {},
   "outputs": [],
   "source": [
    "import reachy_pyluos_hal\n",
    "from reachy_pyluos_hal.config import load_config\n",
    "\n",
    "from reachy_controllers.joint_state_controller import get_reachy_model"
   ]
  },
  {
   "cell_type": "code",
   "execution_count": 2,
   "id": "6404b92f",
   "metadata": {},
   "outputs": [],
   "source": [
    "def fill_required_cards():\n",
    "    required_parts_cards = {} \n",
    "\n",
    "    first_piece_to_part = {\n",
    "        'l_shoulder_pitch': 'left_arm',\n",
    "        'r_shoulder_pitch': 'right_arm',\n",
    "        'neck': 'head',\n",
    "    }\n",
    "\n",
    "    fan_types = [reachy_pyluos_hal.fan.DxlFan, reachy_pyluos_hal.fan.OrbitaFan]\n",
    "\n",
    "    config = load_config(config_name=get_reachy_model())\n",
    "    \n",
    "    for part in config:\n",
    "        required_containers = {\n",
    "            part_name: value.id for (part_name, value) in part.items() if type(value) not in fan_types\n",
    "        }\n",
    "\n",
    "        first_piece = list(part.keys())[0]\n",
    "        required_parts_cards[first_piece_to_part[first_piece]] = required_containers\n",
    "        \n",
    "\n",
    "    return required_parts_cards"
   ]
  },
  {
   "cell_type": "code",
   "execution_count": 3,
   "id": "50ce9da8",
   "metadata": {},
   "outputs": [
    {
     "data": {
      "text/plain": [
       "{'left_arm': {'l_shoulder_pitch': 20,\n",
       "  'l_shoulder_roll': 21,\n",
       "  'l_arm_yaw': 22,\n",
       "  'l_elbow_pitch': 23,\n",
       "  'l_forearm_yaw': 24,\n",
       "  'l_wrist_pitch': 25,\n",
       "  'l_wrist_roll': 26,\n",
       "  'l_gripper': 27,\n",
       "  'l_force_gripper': 20},\n",
       " 'right_arm': {'r_shoulder_pitch': 10,\n",
       "  'r_shoulder_roll': 11,\n",
       "  'r_arm_yaw': 12,\n",
       "  'r_elbow_pitch': 13,\n",
       "  'r_forearm_yaw': 14,\n",
       "  'r_wrist_pitch': 15,\n",
       "  'r_wrist_roll': 16,\n",
       "  'r_gripper': 17,\n",
       "  'r_force_gripper': 10},\n",
       " 'head': {'neck': 40, 'l_antenna': 30, 'r_antenna': 31}}"
      ]
     },
     "execution_count": 3,
     "metadata": {},
     "output_type": "execute_result"
    }
   ],
   "source": [
    "fill_required_cards()"
   ]
  },
  {
   "cell_type": "code",
   "execution_count": 4,
   "id": "f30eed01",
   "metadata": {},
   "outputs": [],
   "source": [
    "config = load_config(config_name=get_reachy_model())"
   ]
  },
  {
   "cell_type": "code",
   "execution_count": 11,
   "id": "44d3ba15",
   "metadata": {},
   "outputs": [
    {
     "data": {
      "text/plain": [
       "reachy_pyluos_hal.dynamixel.MX106"
      ]
     },
     "execution_count": 11,
     "metadata": {},
     "output_type": "execute_result"
    }
   ],
   "source": [
    "type(config[0]['l_shoulder_pitch'])"
   ]
  },
  {
   "cell_type": "code",
   "execution_count": null,
   "id": "f898bdac",
   "metadata": {},
   "outputs": [],
   "source": []
  },
  {
   "cell_type": "code",
   "execution_count": null,
   "id": "553be133",
   "metadata": {},
   "outputs": [],
   "source": []
  }
 ],
 "metadata": {
  "kernelspec": {
   "display_name": "Python 3 (ipykernel)",
   "language": "python",
   "name": "python3"
  },
  "language_info": {
   "codemirror_mode": {
    "name": "ipython",
    "version": 3
   },
   "file_extension": ".py",
   "mimetype": "text/x-python",
   "name": "python",
   "nbconvert_exporter": "python",
   "pygments_lexer": "ipython3",
   "version": "3.8.10"
  }
 },
 "nbformat": 4,
 "nbformat_minor": 5
}
