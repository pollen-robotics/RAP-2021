{
 "cells": [
  {
   "cell_type": "code",
   "execution_count": 1,
   "id": "12a9b571",
   "metadata": {},
   "outputs": [],
   "source": [
    "from reachy_sdk_api import joint_pb2, joint_pb2_grpc\n",
    "import grpc\n",
    "from google.protobuf.empty_pb2 import Empty\n",
    "from google.protobuf.wrappers_pb2 import BoolValue, FloatValue, UInt32Value"
   ]
  },
  {
   "cell_type": "code",
   "execution_count": 2,
   "id": "43fdcfb9",
   "metadata": {},
   "outputs": [],
   "source": [
    "channel = grpc.insecure_channel('localhost:50055')\n",
    "\n",
    "joint_stub = joint_pb2_grpc.JointServiceStub(channel)"
   ]
  },
  {
   "cell_type": "code",
   "execution_count": 3,
   "id": "13c4e916",
   "metadata": {},
   "outputs": [],
   "source": [
    "from joint_pb2 import JointsStateRequest, JointId, JointField"
   ]
  },
  {
   "cell_type": "code",
   "execution_count": 5,
   "id": "2d63dbea",
   "metadata": {},
   "outputs": [],
   "source": [
    "id_joint = JointId(name='l_shoulder_pitch')\n",
    "jf = JointField.TEMPERATURE"
   ]
  },
  {
   "cell_type": "code",
   "execution_count": 6,
   "id": "d7098afd",
   "metadata": {},
   "outputs": [],
   "source": [
    "jsr = JointsStateRequest(ids=[id_joint], requested_fields=[jf, JointField.PRESENT_POSITION])"
   ]
  },
  {
   "cell_type": "code",
   "execution_count": 12,
   "id": "3a11cb2b",
   "metadata": {},
   "outputs": [
    {
     "data": {
      "text/plain": [
       "0.7269448240489791"
      ]
     },
     "execution_count": 12,
     "metadata": {},
     "output_type": "execute_result"
    }
   ],
   "source": [
    "import numpy as np\n",
    "\n",
    "np.rad2deg(joint_stub.GetJointsState(jsr).states[0].present_position.value)"
   ]
  },
  {
   "cell_type": "code",
   "execution_count": 9,
   "id": "c1385fe4",
   "metadata": {},
   "outputs": [],
   "source": [
    "def get_temperatures(joints: [str]):\n",
    "    temperatures = {}\n",
    "\n",
    "    ids = [JointId(name=joint) for joint in joints]\n",
    "    request = JointsStateRequest(ids=ids,requested_fields=[JointField.TEMPERATURE])\n",
    "    res = joint_stub.GetJointsState(request)\n",
    "\n",
    "    for (joint_id, state) in zip(res.ids, res.states):\n",
    "        temperatures[joint_id.name] = state.temperature.value\n",
    "\n",
    "    return temperatures"
   ]
  },
  {
   "cell_type": "code",
   "execution_count": 38,
   "id": "d4628cfa",
   "metadata": {},
   "outputs": [
    {
     "data": {
      "text/plain": [
       "{'l_shoulder_pitch': 40.0, 'l_shoulder_roll': 40.0}"
      ]
     },
     "execution_count": 38,
     "metadata": {},
     "output_type": "execute_result"
    }
   ],
   "source": [
    "get_temperatures(joints=['l_shoulder_pitch', 'l_shoulder_roll'])"
   ]
  },
  {
   "cell_type": "code",
   "execution_count": 1,
   "id": "b0484147",
   "metadata": {},
   "outputs": [],
   "source": [
    "from tools.dashboard_tools import ReachyDashboard"
   ]
  },
  {
   "cell_type": "code",
   "execution_count": 2,
   "id": "7148392c",
   "metadata": {},
   "outputs": [],
   "source": [
    "reachy = ReachyDashboard()"
   ]
  },
  {
   "cell_type": "code",
   "execution_count": 3,
   "id": "c41d82e6",
   "metadata": {},
   "outputs": [
    {
     "data": {
      "text/plain": [
       "{'Left arm': {'l_shoulder_pitch': {'temperature': 34, 'position': 0},\n",
       "  'l_shoulder_roll': {'temperature': 35, 'position': 0},\n",
       "  'l_arm_yaw': {'temperature': 32, 'position': -20},\n",
       "  'l_elbow_pitch': {'temperature': 35, 'position': -53},\n",
       "  'l_forearm_yaw': {'temperature': 32, 'position': -1},\n",
       "  'l_wrist_pitch': {'temperature': 33, 'position': -43},\n",
       "  'l_wrist_roll': {'temperature': 32, 'position': 0},\n",
       "  'l_gripper': {'temperature': 34, 'position': 13}},\n",
       " 'Head': {'l_antenna': {'temperature': 40, 'position': 69},\n",
       "  'r_antenna': {'temperature': 43, 'position': -11},\n",
       "  'neck_roll': {'temperature': 24, 'position': -4},\n",
       "  'neck_pitch': {'temperature': 24, 'position': 39},\n",
       "  'neck_yaw': {'temperature': 24, 'position': -7}}}"
      ]
     },
     "execution_count": 3,
     "metadata": {},
     "output_type": "execute_result"
    }
   ],
   "source": []
  },
  {
   "cell_type": "code",
   "execution_count": 1,
   "id": "996d37e0",
   "metadata": {},
   "outputs": [],
   "source": [
    "dct2 = {'left_arm': {'l_shoulder_pitch': ['reachy_pyluos_hal.dynamixel', 20],\n",
    "  'l_shoulder_roll': ['reachy_pyluos_hal.dynamixel', 21],\n",
    "  'l_arm_yaw': ['reachy_pyluos_hal.dynamixel', 22],\n",
    "  'l_elbow_pitch': ['reachy_pyluos_hal.dynamixel', 23],\n",
    "  'l_forearm_yaw': ['reachy_pyluos_hal.dynamixel', 24],\n",
    "  'l_wrist_pitch': ['reachy_pyluos_hal.dynamixel', 25],\n",
    "  'l_wrist_roll': ['reachy_pyluos_hal.dynamixel', 26],\n",
    "  'l_gripper': ['reachy_pyluos_hal.dynamixel', 27],\n",
    "  'l_force_gripper': ['reachy_pyluos_hal.force_sensor', 20]},\n",
    " 'right_arm': {'r_shoulder_pitch': ['reachy_pyluos_hal.dynamixel', 10],\n",
    "  'r_shoulder_roll': ['reachy_pyluos_hal.dynamixel', 11],\n",
    "  'r_arm_yaw': ['reachy_pyluos_hal.dynamixel', 12],\n",
    "  'r_elbow_pitch': ['reachy_pyluos_hal.dynamixel', 13],\n",
    "  'r_forearm_yaw': ['reachy_pyluos_hal.dynamixel', 14],\n",
    "  'r_wrist_pitch': ['reachy_pyluos_hal.dynamixel', 15],\n",
    "  'r_wrist_roll': ['reachy_pyluos_hal.dynamixel', 16],\n",
    "  'r_gripper': ['reachy_pyluos_hal.dynamixel', 17],\n",
    "  'r_force_gripper': ['reachy_pyluos_hal.force_sensor', 10]},\n",
    " 'head': {'neck': ['reachy_pyluos_hal.orbita', 40],\n",
    "  'l_antenna': ['reachy_pyluos_hal.dynamixel', 30],\n",
    "  'r_antenna': ['reachy_pyluos_hal.dynamixel', 31]}}"
   ]
  },
  {
   "cell_type": "code",
   "execution_count": 2,
   "id": "5108251f",
   "metadata": {},
   "outputs": [],
   "source": [
    "dct1 = {'left_arm': [{'reachy_pyluos_hal.dynamixel': 20},\n",
    "  {'reachy_pyluos_hal.dynamixel': 21},\n",
    "  {'reachy_pyluos_hal.dynamixel': 22},\n",
    "  {'reachy_pyluos_hal.dynamixel': 23},\n",
    "  {'reachy_pyluos_hal.dynamixel': 24},\n",
    "  {'reachy_pyluos_hal.dynamixel': 25},\n",
    "  {'reachy_pyluos_hal.dynamixel': 26},\n",
    "  {'reachy_pyluos_hal.dynamixel': 27},\n",
    "  {'reachy_pyluos_hal.force_sensor': 20}],\n",
    " 'right_arm': [{'reachy_pyluos_hal.dynamixel': 10},\n",
    "  {'reachy_pyluos_hal.dynamixel': 11},\n",
    "  {'reachy_pyluos_hal.dynamixel': 12},\n",
    "  {'reachy_pyluos_hal.dynamixel': 13},\n",
    "  {'reachy_pyluos_hal.dynamixel': 14},\n",
    "  {'reachy_pyluos_hal.dynamixel': 15},\n",
    "  {'reachy_pyluos_hal.dynamixel': 16},\n",
    "  {'reachy_pyluos_hal.dynamixel': 17},\n",
    "  {'reachy_pyluos_hal.force_sensor': 10}],\n",
    " 'head': [{'reachy_pyluos_hal.orbita': 40},\n",
    "  {'reachy_pyluos_hal.dynamixel': 30},\n",
    "  {'reachy_pyluos_hal.dynamixel': 31}]}"
   ]
  },
  {
   "cell_type": "code",
   "execution_count": 27,
   "id": "f92b8602",
   "metadata": {},
   "outputs": [
    {
     "ename": "TypeError",
     "evalue": "'type' object is not subscriptable",
     "output_type": "error",
     "traceback": [
      "\u001b[0;31m---------------------------------------------------------------------------\u001b[0m",
      "\u001b[0;31mTypeError\u001b[0m                                 Traceback (most recent call last)",
      "\u001b[0;32m<ipython-input-27-c338016af561>\u001b[0m in \u001b[0;36m<module>\u001b[0;34m\u001b[0m\n\u001b[1;32m      1\u001b[0m \u001b[0ma\u001b[0m \u001b[0;34m=\u001b[0m \u001b[0;34m{\u001b[0m\u001b[0;34m'reachy_pyluos_hal.dynamixel'\u001b[0m\u001b[0;34m:\u001b[0m \u001b[0;36m20\u001b[0m\u001b[0;34m}\u001b[0m\u001b[0;34m\u001b[0m\u001b[0;34m\u001b[0m\u001b[0m\n\u001b[1;32m      2\u001b[0m \u001b[0;34m\u001b[0m\u001b[0m\n\u001b[0;32m----> 3\u001b[0;31m \u001b[0mlist\u001b[0m\u001b[0;34m[\u001b[0m\u001b[0ma\u001b[0m\u001b[0;34m]\u001b[0m\u001b[0;34m\u001b[0m\u001b[0;34m\u001b[0m\u001b[0m\n\u001b[0m",
      "\u001b[0;31mTypeError\u001b[0m: 'type' object is not subscriptable"
     ]
    }
   ],
   "source": [
    "a = {'reachy_pyluos_hal.dynamixel': 20}\n",
    "\n",
    "list[a]"
   ]
  },
  {
   "cell_type": "code",
   "execution_count": 28,
   "id": "46e84ea5",
   "metadata": {},
   "outputs": [],
   "source": [
    "corrected_dct = {}\n",
    "\n",
    "for part in dct1.keys():\n",
    "    missings = {}\n",
    "    for dic in dct1[part]:\n",
    "        module_type = list(dic.items())[0][0]\n",
    "        module_id = list(dic.items())[0][1]\n",
    "        missings[module_id_to_name[module_type][module_id]] = [module_type, module_id]\n",
    "    corrected_dct[part] = missings"
   ]
  },
  {
   "cell_type": "code",
   "execution_count": 29,
   "id": "0c90a942",
   "metadata": {},
   "outputs": [
    {
     "data": {
      "text/plain": [
       "{'left_arm': {'l_shoulder_pitch': ['reachy_pyluos_hal.dynamixel', 20],\n",
       "  'l_shoulder_roll': ['reachy_pyluos_hal.dynamixel', 21],\n",
       "  'l_arm_yaw': ['reachy_pyluos_hal.dynamixel', 22],\n",
       "  'l_elbow_pitch': ['reachy_pyluos_hal.dynamixel', 23],\n",
       "  'l_forearm_yaw': ['reachy_pyluos_hal.dynamixel', 24],\n",
       "  'l_wrist_pitch': ['reachy_pyluos_hal.dynamixel', 25],\n",
       "  'l_wrist_roll': ['reachy_pyluos_hal.dynamixel', 26],\n",
       "  'l_gripper': ['reachy_pyluos_hal.dynamixel', 27],\n",
       "  'l_force_gripper': ['reachy_pyluos_hal.force_sensor', 20]},\n",
       " 'right_arm': {'r_shoulder_pitch': ['reachy_pyluos_hal.dynamixel', 10],\n",
       "  'r_shoulder_roll': ['reachy_pyluos_hal.dynamixel', 11],\n",
       "  'r_arm_yaw': ['reachy_pyluos_hal.dynamixel', 12],\n",
       "  'r_elbow_pitch': ['reachy_pyluos_hal.dynamixel', 13],\n",
       "  'r_forearm_yaw': ['reachy_pyluos_hal.dynamixel', 14],\n",
       "  'r_wrist_pitch': ['reachy_pyluos_hal.dynamixel', 15],\n",
       "  'r_wrist_roll': ['reachy_pyluos_hal.dynamixel', 16],\n",
       "  'r_gripper': ['reachy_pyluos_hal.dynamixel', 17],\n",
       "  'r_force_gripper': ['reachy_pyluos_hal.force_sensor', 10]},\n",
       " 'head': {'neck': ['reachy_pyluos_hal.orbita', 40],\n",
       "  'l_antenna': ['reachy_pyluos_hal.dynamixel', 30],\n",
       "  'r_antenna': ['reachy_pyluos_hal.dynamixel', 31]}}"
      ]
     },
     "execution_count": 29,
     "metadata": {},
     "output_type": "execute_result"
    }
   ],
   "source": [
    "corrected_dct"
   ]
  },
  {
   "cell_type": "code",
   "execution_count": 23,
   "id": "5c4c79a1",
   "metadata": {},
   "outputs": [],
   "source": [
    "dxlid_to_name = {\n",
    "    10: 'r_shoulder_pitch',\n",
    "    11: 'r_shoulder_roll',\n",
    "    12: 'r_arm_yaw',\n",
    "    13: 'r_elbow_pitch',\n",
    "    14: 'r_forearm_yaw',\n",
    "    15: 'r_wrist_pitch',\n",
    "    16: 'r_wrist_roll',\n",
    "    17: 'r_gripper',\n",
    "    20: 'l_shoulder_pitch',\n",
    "    21: 'l_shoulder_roll',\n",
    "    22: 'l_arm_yaw',\n",
    "    23: 'l_elbow_pitch',\n",
    "    24: 'l_forearm_yaw',\n",
    "    25: 'l_wrist_pitch',\n",
    "    26: 'l_wrist_roll',\n",
    "    27: 'l_gripper',\n",
    "    30: 'l_antenna',\n",
    "    31: 'r_antenna',\n",
    "}\n",
    "\n",
    "force_sensorid_to_name = {\n",
    "    10: 'r_force_gripper',\n",
    "    20: 'l_force_gripper',\n",
    "}\n",
    "\n",
    "orbitaid_to_name = {\n",
    "    40: 'neck',\n",
    "}"
   ]
  },
  {
   "cell_type": "code",
   "execution_count": 24,
   "id": "57bd8978",
   "metadata": {},
   "outputs": [],
   "source": [
    "module_id_to_name = {\n",
    "    'reachy_pyluos_hal.dynamixel': dxlid_to_name,\n",
    "    'reachy_pyluos_hal.force_sensor': force_sensorid_to_name,\n",
    "    'reachy_pyluos_hal.orbita': orbitaid_to_name,\n",
    "}"
   ]
  },
  {
   "cell_type": "code",
   "execution_count": null,
   "id": "57dd7735",
   "metadata": {},
   "outputs": [],
   "source": []
  }
 ],
 "metadata": {
  "kernelspec": {
   "display_name": "Python 3",
   "language": "python",
   "name": "python3"
  },
  "language_info": {
   "codemirror_mode": {
    "name": "ipython",
    "version": 3
   },
   "file_extension": ".py",
   "mimetype": "text/x-python",
   "name": "python",
   "nbconvert_exporter": "python",
   "pygments_lexer": "ipython3",
   "version": "3.8.10"
  }
 },
 "nbformat": 4,
 "nbformat_minor": 5
}
