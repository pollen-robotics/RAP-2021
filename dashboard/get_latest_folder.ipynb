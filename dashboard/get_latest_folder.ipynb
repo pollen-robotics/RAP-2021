{
 "cells": [
  {
   "cell_type": "code",
   "execution_count": null,
   "id": "5f72f2c1",
   "metadata": {},
   "outputs": [],
   "source": [
    "import os\n",
    "from os import path\n",
    "\n",
    "from datetime import datetime"
   ]
  },
  {
   "cell_type": "code",
   "execution_count": 2,
   "id": "927e9eea",
   "metadata": {},
   "outputs": [],
   "source": [
    "home_path = path.expanduser('~')\n",
    "ros_log_path = home_path + '/.ros/log'"
   ]
  },
  {
   "cell_type": "code",
   "execution_count": 3,
   "id": "0470b3e4",
   "metadata": {},
   "outputs": [],
   "source": [
    "host_name = os.uname().nodename"
   ]
  },
  {
   "cell_type": "code",
   "execution_count": 4,
   "id": "71d57c5d",
   "metadata": {},
   "outputs": [],
   "source": [
    "log_folders = [file[0] for file in os.walk(ros_log_path)][1:]"
   ]
  },
  {
   "cell_type": "code",
   "execution_count": 5,
   "id": "bf380537",
   "metadata": {},
   "outputs": [],
   "source": [
    "def get_latest_date_from_log_folders(log_folder_list: [str]):\n",
    "    dates = [p.split('log/')[1].split(host_name)[0] for p in log_folder_list]\n",
    "    dtimes = [datetime(int(d.split('-')[0]), int(d.split('-')[1]), int(d.split('-')[2]), int(d.split('-')[3]), int(d.split('-')[4]), int(d.split('-')[5])) for d in dates]\n",
    "    dtimes.sort()\n",
    "    return dtimes[-1]"
   ]
  },
  {
   "cell_type": "code",
   "execution_count": 6,
   "id": "14a25e8a",
   "metadata": {},
   "outputs": [],
   "source": [
    "def from_datetime_to_str(dt: datetime):\n",
    "    year = str(dt.year)\n",
    "    month = str(dt.month)\n",
    "    day = str(dt.day)\n",
    "    hour = str(dt.hour)\n",
    "    minute = str(dt.minute)\n",
    "    second = str(dt.second)\n",
    "    \n",
    "    if len(month) == 1:\n",
    "        month = '0' + month\n",
    "        \n",
    "    if len(day) == 1:\n",
    "        day = '0' + day\n",
    "        \n",
    "    if len(hour) == 1:\n",
    "        hour = '0' + hour\n",
    "        \n",
    "    if len(minute) == 1:\n",
    "        minute = '0' + minute\n",
    "        \n",
    "    if len(second) == 1:\n",
    "        second = '0' + second\n",
    "    \n",
    "    return year + '-' + month + '-' + day + '-' + hour + '-' + minute + '-' + second"
   ]
  },
  {
   "cell_type": "code",
   "execution_count": 8,
   "id": "7a67ada4",
   "metadata": {},
   "outputs": [],
   "source": [
    "def get_latest_folder(folder_list: [str]):\n",
    "    latest_date = get_latest_date_from_log_folders(folder_list)\n",
    "    \n",
    "    for f in folder_list:\n",
    "        if from_datetime_to_str(latest_date) in f:\n",
    "            return f"
   ]
  },
  {
   "cell_type": "code",
   "execution_count": 9,
   "id": "4cad603b",
   "metadata": {},
   "outputs": [
    {
     "data": {
      "text/plain": [
       "'/home/pierre/.ros/log/2021-12-02-09-48-19-544804-reachy-xprize-1904'"
      ]
     },
     "execution_count": 9,
     "metadata": {},
     "output_type": "execute_result"
    }
   ],
   "source": [
    "get_latest_folder(folder_list=log_folders)"
   ]
  },
  {
   "cell_type": "code",
   "execution_count": null,
   "id": "d98a9f39",
   "metadata": {},
   "outputs": [],
   "source": []
  }
 ],
 "metadata": {
  "kernelspec": {
   "display_name": "Python 3 (ipykernel)",
   "language": "python",
   "name": "python3"
  },
  "language_info": {
   "codemirror_mode": {
    "name": "ipython",
    "version": 3
   },
   "file_extension": ".py",
   "mimetype": "text/x-python",
   "name": "python",
   "nbconvert_exporter": "python",
   "pygments_lexer": "ipython3",
   "version": "3.8.6"
  }
 },
 "nbformat": 4,
 "nbformat_minor": 5
}
